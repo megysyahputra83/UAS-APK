{
 "cells": [
  {
   "cell_type": "code",
   "execution_count": 1,
   "id": "ba7ff2f9",
   "metadata": {},
   "outputs": [
    {
     "ename": "IndentationError",
     "evalue": "unexpected indent (<ipython-input-1-ce18010b6b95>, line 5)",
     "output_type": "error",
     "traceback": [
      "\u001b[1;36m  File \u001b[1;32m\"<ipython-input-1-ce18010b6b95>\"\u001b[1;36m, line \u001b[1;32m5\u001b[0m\n\u001b[1;33m    x = input(\"user/t:\")\u001b[0m\n\u001b[1;37m    ^\u001b[0m\n\u001b[1;31mIndentationError\u001b[0m\u001b[1;31m:\u001b[0m unexpected indent\n"
     ]
    }
   ],
   "source": [
    "import re\n",
    "import random\n",
    "\n",
    "sapaan = [\"Hai Juga\", \"Hallo Juga\", \"Apa Kabar\"]\n",
    "    x = input(\"user/t:\")\n",
    "    if re.findall(r'Hallo|Hai', x):\n",
    "        print(\"bot/t:\", random.choice(sapaan))\n",
    "    else:\n",
    "        print(\"bot/t: Aku Tidak Paham\")"
   ]
  },
  {
   "cell_type": "code",
   "execution_count": 2,
   "id": "06f3da89",
   "metadata": {},
   "outputs": [
    {
     "ename": "IndentationError",
     "evalue": "unexpected indent (<ipython-input-2-a6a08f2ac6b1>, line 5)",
     "output_type": "error",
     "traceback": [
      "\u001b[1;36m  File \u001b[1;32m\"<ipython-input-2-a6a08f2ac6b1>\"\u001b[1;36m, line \u001b[1;32m5\u001b[0m\n\u001b[1;33m    x = input(\"user/megis:\")\u001b[0m\n\u001b[1;37m    ^\u001b[0m\n\u001b[1;31mIndentationError\u001b[0m\u001b[1;31m:\u001b[0m unexpected indent\n"
     ]
    }
   ],
   "source": [
    "import re\n",
    "import random\n",
    "\n",
    "sapaan = [\"Hai Juga\", \"Hallo Juga\", \"Apa Kabar\"]\n",
    "    x = input(\"user/megis:\")\n",
    "    if re.findall(r'Hallo|Hai', x):\n",
    "        print(\"bot/megis:\", random.choice(sapaan))\n",
    "    else:\n",
    "        print(\"bot/megis: Aku Tidak Paham\")"
   ]
  },
  {
   "cell_type": "code",
   "execution_count": null,
   "id": "6275fac2",
   "metadata": {},
   "outputs": [],
   "source": [
    "import re\n",
    "import random\n",
    "\n",
    "sapaan = [\"Hai Juga\", \"Hallo Juga\", \"Apa Kabar\"]\n",
    "    x = input(\"user/t:\")\n",
    "    if re.findall(r'Hallo|Hai', x):\n",
    "        print(\"bot/t:\", random.choice(sapaan))\n",
    "    else:\n",
    "        print(\"bot/t: Aku Tidak Paham\")"
   ]
  }
 ],
 "metadata": {
  "kernelspec": {
   "display_name": "Python 3",
   "language": "python",
   "name": "python3"
  },
  "language_info": {
   "codemirror_mode": {
    "name": "ipython",
    "version": 3
   },
   "file_extension": ".py",
   "mimetype": "text/x-python",
   "name": "python",
   "nbconvert_exporter": "python",
   "pygments_lexer": "ipython3",
   "version": "3.8.8"
  }
 },
 "nbformat": 4,
 "nbformat_minor": 5
}
